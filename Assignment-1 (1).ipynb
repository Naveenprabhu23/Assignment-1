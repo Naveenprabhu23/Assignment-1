{
 "cells": [
  {
   "cell_type": "code",
   "execution_count": 6,
   "metadata": {
    "colab": {
     "base_uri": "https://localhost:8080/"
    },
    "executionInfo": {
     "elapsed": 1287,
     "status": "ok",
     "timestamp": 1618592751989,
     "user": {
      "displayName": "Suraj Aavula",
      "photoUrl": "https://lh3.googleusercontent.com/a-/AOh14GhTfLwD4Appp_EGcwstshekHgkIeay-Ci1ehrvlfw=s64",
      "userId": "08177276703830986846"
     },
     "user_tz": -330
    },
    "id": "jHQaUb0goGHl",
    "outputId": "4f19144e-67ce-412f-abac-275440dd2841"
   },
   "outputs": [
    {
     "name": "stdout",
     "output_type": "stream",
     "text": [
      "2002,2009,2016,2023,2037,2044,2051,2058,2072,2079,2086,2093,2107,2114,2121,2128,2142,2149,2156,2163,2177,2184,2191,2198,2212,2219,2226,2233,2247,2254,2261,2268,2282,2289,2296,2303,2317,2324,2331,2338,2352,2359,2366,2373,2387,2394,2401,2408,2422,2429,2436,2443,2457,2464,2471,2478,2492,2499,2506,2513,2527,2534,2541,2548,2562,2569,2576,2583,2597,2604,2611,2618,2632,2639,2646,2653,2667,2674,2681,2688,2702,2709,2716,2723,2737,2744,2751,2758,2772,2779,2786,2793,2807,2814,2821,2828,2842,2849,2856,2863,2877,2884,2891,2898,2912,2919,2926,2933,2947,2954,2961,2968,2982,2989,2996,3003,3017,3024,3031,3038,3052,3059,3066,3073,3087,3094,3101,3108,3122,3129,3136,3143,3157,3164,3171,3178,3192,3199,"
     ]
    }
   ],
   "source": [
    "''' Write a program which will find all such numbers which are divisible by 7 but are not a multiple of 5, \n",
    "  between 2000 and 3200 (both included). The numbers obtained should be printed\n",
    "  in a comma-separated sequence on a single line. '''\n",
    "\n",
    "\n",
    "def divisible(a,b):\n",
    "      for i in range(a,(b+1)):\n",
    "          if i%7==0 and i%5!=0:\n",
    "                print(i, end=',')\n",
    "    \n",
    "    \n",
    "divisible(2000,3200)"
   ]
  },
  {
   "cell_type": "code",
   "execution_count": 7,
   "metadata": {
    "colab": {
     "base_uri": "https://localhost:8080/"
    },
    "executionInfo": {
     "elapsed": 19001,
     "status": "ok",
     "timestamp": 1618592677431,
     "user": {
      "displayName": "Suraj Aavula",
      "photoUrl": "https://lh3.googleusercontent.com/a-/AOh14GhTfLwD4Appp_EGcwstshekHgkIeay-Ci1ehrvlfw=s64",
      "userId": "08177276703830986846"
     },
     "user_tz": -330
    },
    "id": "sKsQqOnwoGHr",
    "outputId": "64ef61e9-e532-4b41-9c63-0e031ea1e0f5"
   },
   "outputs": [
    {
     "name": "stdout",
     "output_type": "stream",
     "text": [
      "Enter the first name: naveen\n",
      "Enter the second name: prBHU\n",
      "UHBrp neevan\n"
     ]
    }
   ],
   "source": [
    "''' Write a Python program to accept the user's first and last name and then getting them\n",
    "    printed in the the reverse order with a space between first name and last name. '''\n",
    "\n",
    "\n",
    "a=input(\"Enter the first name: \")\n",
    "b=input(\"Enter the second name: \")\n",
    "c=a+\" \"+b\n",
    "print(c[-1::-1])"
   ]
  },
  {
   "cell_type": "code",
   "execution_count": 8,
   "metadata": {
    "id": "-Z6ycBsPoGHr",
    "outputId": "8684051d-b29b-4de5-c104-543e878a3bb7"
   },
   "outputs": [
    {
     "name": "stdout",
     "output_type": "stream",
     "text": [
      "904.7786842338603\n"
     ]
    }
   ],
   "source": [
    "''' Write a Python program to find the volume of a sphere with diameter 12 cm. \n",
    "    Formula: V=4/3 * π * r 3 '''\n",
    "\n",
    "\n",
    "import math\n",
    "d=12\n",
    "r=d//2\n",
    "a=math.pi\n",
    "v=(4/3)*a*(r**3)\n",
    "print(v)"
   ]
  },
  {
   "cell_type": "code",
   "execution_count": null,
   "metadata": {
    "id": "-QXTWJPUoGHs"
   },
   "outputs": [],
   "source": []
  },
  {
   "cell_type": "code",
   "execution_count": null,
   "metadata": {},
   "outputs": [],
   "source": []
  }
 ],
 "metadata": {
  "colab": {
   "collapsed_sections": [],
   "name": "Assignment-1.ipynb",
   "provenance": []
  },
  "kernelspec": {
   "display_name": "Python 3",
   "language": "python",
   "name": "python3"
  },
  "language_info": {
   "codemirror_mode": {
    "name": "ipython",
    "version": 3
   },
   "file_extension": ".py",
   "mimetype": "text/x-python",
   "name": "python",
   "nbconvert_exporter": "python",
   "pygments_lexer": "ipython3",
   "version": "3.8.3"
  }
 },
 "nbformat": 4,
 "nbformat_minor": 1
}
